{
  "nbformat": 4,
  "nbformat_minor": 0,
  "metadata": {
    "colab": {
      "name": "gpt2-medium.ipynb",
      "provenance": [],
      "collapsed_sections": []
    },
    "kernelspec": {
      "name": "python3",
      "display_name": "Python 3"
    },
    "language_info": {
      "name": "python"
    },
    "accelerator": "GPU",
    "widgets": {
      "application/vnd.jupyter.widget-state+json": {
        "967cd2c962614481bbbfa1f29b6cd335": {
          "model_module": "@jupyter-widgets/controls",
          "model_name": "HBoxModel",
          "state": {
            "_view_name": "HBoxView",
            "_dom_classes": [],
            "_model_name": "HBoxModel",
            "_view_module": "@jupyter-widgets/controls",
            "_model_module_version": "1.5.0",
            "_view_count": null,
            "_view_module_version": "1.5.0",
            "box_style": "",
            "layout": "IPY_MODEL_a8e44c42191246cc85b47cadc5a7035a",
            "_model_module": "@jupyter-widgets/controls",
            "children": [
              "IPY_MODEL_7b794ea99f9740459d98981208744a54",
              "IPY_MODEL_36a57490695d4a1cbf5e92c2d723e147"
            ]
          }
        },
        "a8e44c42191246cc85b47cadc5a7035a": {
          "model_module": "@jupyter-widgets/base",
          "model_name": "LayoutModel",
          "state": {
            "_view_name": "LayoutView",
            "grid_template_rows": null,
            "right": null,
            "justify_content": null,
            "_view_module": "@jupyter-widgets/base",
            "overflow": null,
            "_model_module_version": "1.2.0",
            "_view_count": null,
            "flex_flow": null,
            "width": null,
            "min_width": null,
            "border": null,
            "align_items": null,
            "bottom": null,
            "_model_module": "@jupyter-widgets/base",
            "top": null,
            "grid_column": null,
            "overflow_y": null,
            "overflow_x": null,
            "grid_auto_flow": null,
            "grid_area": null,
            "grid_template_columns": null,
            "flex": null,
            "_model_name": "LayoutModel",
            "justify_items": null,
            "grid_row": null,
            "max_height": null,
            "align_content": null,
            "visibility": null,
            "align_self": null,
            "height": null,
            "min_height": null,
            "padding": null,
            "grid_auto_rows": null,
            "grid_gap": null,
            "max_width": null,
            "order": null,
            "_view_module_version": "1.2.0",
            "grid_template_areas": null,
            "object_position": null,
            "object_fit": null,
            "grid_auto_columns": null,
            "margin": null,
            "display": null,
            "left": null
          }
        },
        "7b794ea99f9740459d98981208744a54": {
          "model_module": "@jupyter-widgets/controls",
          "model_name": "FloatProgressModel",
          "state": {
            "_view_name": "ProgressView",
            "style": "IPY_MODEL_25584bd7cd864107aac782e5909791bb",
            "_dom_classes": [],
            "description": "Downloading: 100%",
            "_model_name": "FloatProgressModel",
            "bar_style": "success",
            "max": 1042301,
            "_view_module": "@jupyter-widgets/controls",
            "_model_module_version": "1.5.0",
            "value": 1042301,
            "_view_count": null,
            "_view_module_version": "1.5.0",
            "orientation": "horizontal",
            "min": 0,
            "description_tooltip": null,
            "_model_module": "@jupyter-widgets/controls",
            "layout": "IPY_MODEL_58b663eed45348868f51cb9c97595c2a"
          }
        },
        "36a57490695d4a1cbf5e92c2d723e147": {
          "model_module": "@jupyter-widgets/controls",
          "model_name": "HTMLModel",
          "state": {
            "_view_name": "HTMLView",
            "style": "IPY_MODEL_66dfd1051ff143d59f98c8ae9108dd4f",
            "_dom_classes": [],
            "description": "",
            "_model_name": "HTMLModel",
            "placeholder": "​",
            "_view_module": "@jupyter-widgets/controls",
            "_model_module_version": "1.5.0",
            "value": " 1.04M/1.04M [00:02&lt;00:00, 401kB/s]",
            "_view_count": null,
            "_view_module_version": "1.5.0",
            "description_tooltip": null,
            "_model_module": "@jupyter-widgets/controls",
            "layout": "IPY_MODEL_9ecf4503efb5451f96b57bbff2b4f823"
          }
        },
        "25584bd7cd864107aac782e5909791bb": {
          "model_module": "@jupyter-widgets/controls",
          "model_name": "ProgressStyleModel",
          "state": {
            "_view_name": "StyleView",
            "_model_name": "ProgressStyleModel",
            "description_width": "initial",
            "_view_module": "@jupyter-widgets/base",
            "_model_module_version": "1.5.0",
            "_view_count": null,
            "_view_module_version": "1.2.0",
            "bar_color": null,
            "_model_module": "@jupyter-widgets/controls"
          }
        },
        "58b663eed45348868f51cb9c97595c2a": {
          "model_module": "@jupyter-widgets/base",
          "model_name": "LayoutModel",
          "state": {
            "_view_name": "LayoutView",
            "grid_template_rows": null,
            "right": null,
            "justify_content": null,
            "_view_module": "@jupyter-widgets/base",
            "overflow": null,
            "_model_module_version": "1.2.0",
            "_view_count": null,
            "flex_flow": null,
            "width": null,
            "min_width": null,
            "border": null,
            "align_items": null,
            "bottom": null,
            "_model_module": "@jupyter-widgets/base",
            "top": null,
            "grid_column": null,
            "overflow_y": null,
            "overflow_x": null,
            "grid_auto_flow": null,
            "grid_area": null,
            "grid_template_columns": null,
            "flex": null,
            "_model_name": "LayoutModel",
            "justify_items": null,
            "grid_row": null,
            "max_height": null,
            "align_content": null,
            "visibility": null,
            "align_self": null,
            "height": null,
            "min_height": null,
            "padding": null,
            "grid_auto_rows": null,
            "grid_gap": null,
            "max_width": null,
            "order": null,
            "_view_module_version": "1.2.0",
            "grid_template_areas": null,
            "object_position": null,
            "object_fit": null,
            "grid_auto_columns": null,
            "margin": null,
            "display": null,
            "left": null
          }
        },
        "66dfd1051ff143d59f98c8ae9108dd4f": {
          "model_module": "@jupyter-widgets/controls",
          "model_name": "DescriptionStyleModel",
          "state": {
            "_view_name": "StyleView",
            "_model_name": "DescriptionStyleModel",
            "description_width": "",
            "_view_module": "@jupyter-widgets/base",
            "_model_module_version": "1.5.0",
            "_view_count": null,
            "_view_module_version": "1.2.0",
            "_model_module": "@jupyter-widgets/controls"
          }
        },
        "9ecf4503efb5451f96b57bbff2b4f823": {
          "model_module": "@jupyter-widgets/base",
          "model_name": "LayoutModel",
          "state": {
            "_view_name": "LayoutView",
            "grid_template_rows": null,
            "right": null,
            "justify_content": null,
            "_view_module": "@jupyter-widgets/base",
            "overflow": null,
            "_model_module_version": "1.2.0",
            "_view_count": null,
            "flex_flow": null,
            "width": null,
            "min_width": null,
            "border": null,
            "align_items": null,
            "bottom": null,
            "_model_module": "@jupyter-widgets/base",
            "top": null,
            "grid_column": null,
            "overflow_y": null,
            "overflow_x": null,
            "grid_auto_flow": null,
            "grid_area": null,
            "grid_template_columns": null,
            "flex": null,
            "_model_name": "LayoutModel",
            "justify_items": null,
            "grid_row": null,
            "max_height": null,
            "align_content": null,
            "visibility": null,
            "align_self": null,
            "height": null,
            "min_height": null,
            "padding": null,
            "grid_auto_rows": null,
            "grid_gap": null,
            "max_width": null,
            "order": null,
            "_view_module_version": "1.2.0",
            "grid_template_areas": null,
            "object_position": null,
            "object_fit": null,
            "grid_auto_columns": null,
            "margin": null,
            "display": null,
            "left": null
          }
        },
        "f1b4cc9222a3448585ddf46cb1e72864": {
          "model_module": "@jupyter-widgets/controls",
          "model_name": "HBoxModel",
          "state": {
            "_view_name": "HBoxView",
            "_dom_classes": [],
            "_model_name": "HBoxModel",
            "_view_module": "@jupyter-widgets/controls",
            "_model_module_version": "1.5.0",
            "_view_count": null,
            "_view_module_version": "1.5.0",
            "box_style": "",
            "layout": "IPY_MODEL_806365ec5ecf4621b558a4456569b4f8",
            "_model_module": "@jupyter-widgets/controls",
            "children": [
              "IPY_MODEL_f317926cdba349eb9369fe1b6fcad726",
              "IPY_MODEL_5d69b63d2f1a4a5490c40c86e79ba3c1"
            ]
          }
        },
        "806365ec5ecf4621b558a4456569b4f8": {
          "model_module": "@jupyter-widgets/base",
          "model_name": "LayoutModel",
          "state": {
            "_view_name": "LayoutView",
            "grid_template_rows": null,
            "right": null,
            "justify_content": null,
            "_view_module": "@jupyter-widgets/base",
            "overflow": null,
            "_model_module_version": "1.2.0",
            "_view_count": null,
            "flex_flow": null,
            "width": null,
            "min_width": null,
            "border": null,
            "align_items": null,
            "bottom": null,
            "_model_module": "@jupyter-widgets/base",
            "top": null,
            "grid_column": null,
            "overflow_y": null,
            "overflow_x": null,
            "grid_auto_flow": null,
            "grid_area": null,
            "grid_template_columns": null,
            "flex": null,
            "_model_name": "LayoutModel",
            "justify_items": null,
            "grid_row": null,
            "max_height": null,
            "align_content": null,
            "visibility": null,
            "align_self": null,
            "height": null,
            "min_height": null,
            "padding": null,
            "grid_auto_rows": null,
            "grid_gap": null,
            "max_width": null,
            "order": null,
            "_view_module_version": "1.2.0",
            "grid_template_areas": null,
            "object_position": null,
            "object_fit": null,
            "grid_auto_columns": null,
            "margin": null,
            "display": null,
            "left": null
          }
        },
        "f317926cdba349eb9369fe1b6fcad726": {
          "model_module": "@jupyter-widgets/controls",
          "model_name": "FloatProgressModel",
          "state": {
            "_view_name": "ProgressView",
            "style": "IPY_MODEL_8a0d5dd50a844328abf6ebf7a88a6d33",
            "_dom_classes": [],
            "description": "Downloading: 100%",
            "_model_name": "FloatProgressModel",
            "bar_style": "success",
            "max": 456318,
            "_view_module": "@jupyter-widgets/controls",
            "_model_module_version": "1.5.0",
            "value": 456318,
            "_view_count": null,
            "_view_module_version": "1.5.0",
            "orientation": "horizontal",
            "min": 0,
            "description_tooltip": null,
            "_model_module": "@jupyter-widgets/controls",
            "layout": "IPY_MODEL_3e1b0a02aba0447c9d905e65a4828d18"
          }
        },
        "5d69b63d2f1a4a5490c40c86e79ba3c1": {
          "model_module": "@jupyter-widgets/controls",
          "model_name": "HTMLModel",
          "state": {
            "_view_name": "HTMLView",
            "style": "IPY_MODEL_34f649aa5d3d435e8f36f0b6ce2bb2a3",
            "_dom_classes": [],
            "description": "",
            "_model_name": "HTMLModel",
            "placeholder": "​",
            "_view_module": "@jupyter-widgets/controls",
            "_model_module_version": "1.5.0",
            "value": " 456k/456k [00:01&lt;00:00, 254kB/s]",
            "_view_count": null,
            "_view_module_version": "1.5.0",
            "description_tooltip": null,
            "_model_module": "@jupyter-widgets/controls",
            "layout": "IPY_MODEL_5c906063a6d14b58b8aa202ecc1992a0"
          }
        },
        "8a0d5dd50a844328abf6ebf7a88a6d33": {
          "model_module": "@jupyter-widgets/controls",
          "model_name": "ProgressStyleModel",
          "state": {
            "_view_name": "StyleView",
            "_model_name": "ProgressStyleModel",
            "description_width": "initial",
            "_view_module": "@jupyter-widgets/base",
            "_model_module_version": "1.5.0",
            "_view_count": null,
            "_view_module_version": "1.2.0",
            "bar_color": null,
            "_model_module": "@jupyter-widgets/controls"
          }
        },
        "3e1b0a02aba0447c9d905e65a4828d18": {
          "model_module": "@jupyter-widgets/base",
          "model_name": "LayoutModel",
          "state": {
            "_view_name": "LayoutView",
            "grid_template_rows": null,
            "right": null,
            "justify_content": null,
            "_view_module": "@jupyter-widgets/base",
            "overflow": null,
            "_model_module_version": "1.2.0",
            "_view_count": null,
            "flex_flow": null,
            "width": null,
            "min_width": null,
            "border": null,
            "align_items": null,
            "bottom": null,
            "_model_module": "@jupyter-widgets/base",
            "top": null,
            "grid_column": null,
            "overflow_y": null,
            "overflow_x": null,
            "grid_auto_flow": null,
            "grid_area": null,
            "grid_template_columns": null,
            "flex": null,
            "_model_name": "LayoutModel",
            "justify_items": null,
            "grid_row": null,
            "max_height": null,
            "align_content": null,
            "visibility": null,
            "align_self": null,
            "height": null,
            "min_height": null,
            "padding": null,
            "grid_auto_rows": null,
            "grid_gap": null,
            "max_width": null,
            "order": null,
            "_view_module_version": "1.2.0",
            "grid_template_areas": null,
            "object_position": null,
            "object_fit": null,
            "grid_auto_columns": null,
            "margin": null,
            "display": null,
            "left": null
          }
        },
        "34f649aa5d3d435e8f36f0b6ce2bb2a3": {
          "model_module": "@jupyter-widgets/controls",
          "model_name": "DescriptionStyleModel",
          "state": {
            "_view_name": "StyleView",
            "_model_name": "DescriptionStyleModel",
            "description_width": "",
            "_view_module": "@jupyter-widgets/base",
            "_model_module_version": "1.5.0",
            "_view_count": null,
            "_view_module_version": "1.2.0",
            "_model_module": "@jupyter-widgets/controls"
          }
        },
        "5c906063a6d14b58b8aa202ecc1992a0": {
          "model_module": "@jupyter-widgets/base",
          "model_name": "LayoutModel",
          "state": {
            "_view_name": "LayoutView",
            "grid_template_rows": null,
            "right": null,
            "justify_content": null,
            "_view_module": "@jupyter-widgets/base",
            "overflow": null,
            "_model_module_version": "1.2.0",
            "_view_count": null,
            "flex_flow": null,
            "width": null,
            "min_width": null,
            "border": null,
            "align_items": null,
            "bottom": null,
            "_model_module": "@jupyter-widgets/base",
            "top": null,
            "grid_column": null,
            "overflow_y": null,
            "overflow_x": null,
            "grid_auto_flow": null,
            "grid_area": null,
            "grid_template_columns": null,
            "flex": null,
            "_model_name": "LayoutModel",
            "justify_items": null,
            "grid_row": null,
            "max_height": null,
            "align_content": null,
            "visibility": null,
            "align_self": null,
            "height": null,
            "min_height": null,
            "padding": null,
            "grid_auto_rows": null,
            "grid_gap": null,
            "max_width": null,
            "order": null,
            "_view_module_version": "1.2.0",
            "grid_template_areas": null,
            "object_position": null,
            "object_fit": null,
            "grid_auto_columns": null,
            "margin": null,
            "display": null,
            "left": null
          }
        },
        "69f43e7857304041abaad8b0dd0e6f2a": {
          "model_module": "@jupyter-widgets/controls",
          "model_name": "HBoxModel",
          "state": {
            "_view_name": "HBoxView",
            "_dom_classes": [],
            "_model_name": "HBoxModel",
            "_view_module": "@jupyter-widgets/controls",
            "_model_module_version": "1.5.0",
            "_view_count": null,
            "_view_module_version": "1.5.0",
            "box_style": "",
            "layout": "IPY_MODEL_8fd10a3cccbf463286df0c51030d81ad",
            "_model_module": "@jupyter-widgets/controls",
            "children": [
              "IPY_MODEL_3609c99a7c3b4211903afcf68f212af0",
              "IPY_MODEL_6018a45faabc4757ba762f48687bc6b0"
            ]
          }
        },
        "8fd10a3cccbf463286df0c51030d81ad": {
          "model_module": "@jupyter-widgets/base",
          "model_name": "LayoutModel",
          "state": {
            "_view_name": "LayoutView",
            "grid_template_rows": null,
            "right": null,
            "justify_content": null,
            "_view_module": "@jupyter-widgets/base",
            "overflow": null,
            "_model_module_version": "1.2.0",
            "_view_count": null,
            "flex_flow": null,
            "width": null,
            "min_width": null,
            "border": null,
            "align_items": null,
            "bottom": null,
            "_model_module": "@jupyter-widgets/base",
            "top": null,
            "grid_column": null,
            "overflow_y": null,
            "overflow_x": null,
            "grid_auto_flow": null,
            "grid_area": null,
            "grid_template_columns": null,
            "flex": null,
            "_model_name": "LayoutModel",
            "justify_items": null,
            "grid_row": null,
            "max_height": null,
            "align_content": null,
            "visibility": null,
            "align_self": null,
            "height": null,
            "min_height": null,
            "padding": null,
            "grid_auto_rows": null,
            "grid_gap": null,
            "max_width": null,
            "order": null,
            "_view_module_version": "1.2.0",
            "grid_template_areas": null,
            "object_position": null,
            "object_fit": null,
            "grid_auto_columns": null,
            "margin": null,
            "display": null,
            "left": null
          }
        },
        "3609c99a7c3b4211903afcf68f212af0": {
          "model_module": "@jupyter-widgets/controls",
          "model_name": "FloatProgressModel",
          "state": {
            "_view_name": "ProgressView",
            "style": "IPY_MODEL_5f442e97e8c3437facd1eddb1d95ae34",
            "_dom_classes": [],
            "description": "Downloading: 100%",
            "_model_name": "FloatProgressModel",
            "bar_style": "success",
            "max": 1355256,
            "_view_module": "@jupyter-widgets/controls",
            "_model_module_version": "1.5.0",
            "value": 1355256,
            "_view_count": null,
            "_view_module_version": "1.5.0",
            "orientation": "horizontal",
            "min": 0,
            "description_tooltip": null,
            "_model_module": "@jupyter-widgets/controls",
            "layout": "IPY_MODEL_f613a5921dce433593c806ff25850fab"
          }
        },
        "6018a45faabc4757ba762f48687bc6b0": {
          "model_module": "@jupyter-widgets/controls",
          "model_name": "HTMLModel",
          "state": {
            "_view_name": "HTMLView",
            "style": "IPY_MODEL_f2e6e279b97648038fb58b21c6662339",
            "_dom_classes": [],
            "description": "",
            "_model_name": "HTMLModel",
            "placeholder": "​",
            "_view_module": "@jupyter-widgets/controls",
            "_model_module_version": "1.5.0",
            "value": " 1.36M/1.36M [00:00&lt;00:00, 3.06MB/s]",
            "_view_count": null,
            "_view_module_version": "1.5.0",
            "description_tooltip": null,
            "_model_module": "@jupyter-widgets/controls",
            "layout": "IPY_MODEL_9c423ad7d2a74fbd8ebf8722e2d59fcd"
          }
        },
        "5f442e97e8c3437facd1eddb1d95ae34": {
          "model_module": "@jupyter-widgets/controls",
          "model_name": "ProgressStyleModel",
          "state": {
            "_view_name": "StyleView",
            "_model_name": "ProgressStyleModel",
            "description_width": "initial",
            "_view_module": "@jupyter-widgets/base",
            "_model_module_version": "1.5.0",
            "_view_count": null,
            "_view_module_version": "1.2.0",
            "bar_color": null,
            "_model_module": "@jupyter-widgets/controls"
          }
        },
        "f613a5921dce433593c806ff25850fab": {
          "model_module": "@jupyter-widgets/base",
          "model_name": "LayoutModel",
          "state": {
            "_view_name": "LayoutView",
            "grid_template_rows": null,
            "right": null,
            "justify_content": null,
            "_view_module": "@jupyter-widgets/base",
            "overflow": null,
            "_model_module_version": "1.2.0",
            "_view_count": null,
            "flex_flow": null,
            "width": null,
            "min_width": null,
            "border": null,
            "align_items": null,
            "bottom": null,
            "_model_module": "@jupyter-widgets/base",
            "top": null,
            "grid_column": null,
            "overflow_y": null,
            "overflow_x": null,
            "grid_auto_flow": null,
            "grid_area": null,
            "grid_template_columns": null,
            "flex": null,
            "_model_name": "LayoutModel",
            "justify_items": null,
            "grid_row": null,
            "max_height": null,
            "align_content": null,
            "visibility": null,
            "align_self": null,
            "height": null,
            "min_height": null,
            "padding": null,
            "grid_auto_rows": null,
            "grid_gap": null,
            "max_width": null,
            "order": null,
            "_view_module_version": "1.2.0",
            "grid_template_areas": null,
            "object_position": null,
            "object_fit": null,
            "grid_auto_columns": null,
            "margin": null,
            "display": null,
            "left": null
          }
        },
        "f2e6e279b97648038fb58b21c6662339": {
          "model_module": "@jupyter-widgets/controls",
          "model_name": "DescriptionStyleModel",
          "state": {
            "_view_name": "StyleView",
            "_model_name": "DescriptionStyleModel",
            "description_width": "",
            "_view_module": "@jupyter-widgets/base",
            "_model_module_version": "1.5.0",
            "_view_count": null,
            "_view_module_version": "1.2.0",
            "_model_module": "@jupyter-widgets/controls"
          }
        },
        "9c423ad7d2a74fbd8ebf8722e2d59fcd": {
          "model_module": "@jupyter-widgets/base",
          "model_name": "LayoutModel",
          "state": {
            "_view_name": "LayoutView",
            "grid_template_rows": null,
            "right": null,
            "justify_content": null,
            "_view_module": "@jupyter-widgets/base",
            "overflow": null,
            "_model_module_version": "1.2.0",
            "_view_count": null,
            "flex_flow": null,
            "width": null,
            "min_width": null,
            "border": null,
            "align_items": null,
            "bottom": null,
            "_model_module": "@jupyter-widgets/base",
            "top": null,
            "grid_column": null,
            "overflow_y": null,
            "overflow_x": null,
            "grid_auto_flow": null,
            "grid_area": null,
            "grid_template_columns": null,
            "flex": null,
            "_model_name": "LayoutModel",
            "justify_items": null,
            "grid_row": null,
            "max_height": null,
            "align_content": null,
            "visibility": null,
            "align_self": null,
            "height": null,
            "min_height": null,
            "padding": null,
            "grid_auto_rows": null,
            "grid_gap": null,
            "max_width": null,
            "order": null,
            "_view_module_version": "1.2.0",
            "grid_template_areas": null,
            "object_position": null,
            "object_fit": null,
            "grid_auto_columns": null,
            "margin": null,
            "display": null,
            "left": null
          }
        }
      }
    }
  },
  "cells": [
    {
      "cell_type": "code",
      "metadata": {
        "id": "gfaOuPC--5kT"
      },
      "source": [
        "import math\n",
        "import torch\n",
        "import re"
      ],
      "execution_count": null,
      "outputs": []
    },
    {
      "cell_type": "code",
      "metadata": {
        "colab": {
          "base_uri": "https://localhost:8080/"
        },
        "id": "FxJ8UHb4-svO",
        "outputId": "52cfa0f5-0a68-4199-a993-410ce535d06b"
      },
      "source": [
        "!pip install tqdm\n",
        "from tqdm import tqdm"
      ],
      "execution_count": null,
      "outputs": [
        {
          "output_type": "stream",
          "text": [
            "Requirement already satisfied: tqdm in /usr/local/lib/python3.7/dist-packages (4.41.1)\n"
          ],
          "name": "stdout"
        }
      ]
    },
    {
      "cell_type": "code",
      "metadata": {
        "colab": {
          "base_uri": "https://localhost:8080/"
        },
        "id": "_ZbcJoPZ-F5K",
        "outputId": "fdb98f12-be35-47aa-aca6-0c0205ae03ec"
      },
      "source": [
        "!pip install transformers"
      ],
      "execution_count": null,
      "outputs": [
        {
          "output_type": "stream",
          "text": [
            "Collecting transformers\n",
            "\u001b[?25l  Downloading https://files.pythonhosted.org/packages/d8/b2/57495b5309f09fa501866e225c84532d1fd89536ea62406b2181933fb418/transformers-4.5.1-py3-none-any.whl (2.1MB)\n",
            "\u001b[K     |████████████████████████████████| 2.1MB 7.8MB/s \n",
            "\u001b[?25hRequirement already satisfied: filelock in /usr/local/lib/python3.7/dist-packages (from transformers) (3.0.12)\n",
            "Requirement already satisfied: regex!=2019.12.17 in /usr/local/lib/python3.7/dist-packages (from transformers) (2019.12.20)\n",
            "Requirement already satisfied: tqdm>=4.27 in /usr/local/lib/python3.7/dist-packages (from transformers) (4.41.1)\n",
            "Requirement already satisfied: importlib-metadata; python_version < \"3.8\" in /usr/local/lib/python3.7/dist-packages (from transformers) (3.10.1)\n",
            "Requirement already satisfied: packaging in /usr/local/lib/python3.7/dist-packages (from transformers) (20.9)\n",
            "Requirement already satisfied: requests in /usr/local/lib/python3.7/dist-packages (from transformers) (2.23.0)\n",
            "Collecting tokenizers<0.11,>=0.10.1\n",
            "\u001b[?25l  Downloading https://files.pythonhosted.org/packages/ae/04/5b870f26a858552025a62f1649c20d29d2672c02ff3c3fb4c688ca46467a/tokenizers-0.10.2-cp37-cp37m-manylinux2010_x86_64.whl (3.3MB)\n",
            "\u001b[K     |████████████████████████████████| 3.3MB 54.8MB/s \n",
            "\u001b[?25hRequirement already satisfied: numpy>=1.17 in /usr/local/lib/python3.7/dist-packages (from transformers) (1.19.5)\n",
            "Collecting sacremoses\n",
            "\u001b[?25l  Downloading https://files.pythonhosted.org/packages/75/ee/67241dc87f266093c533a2d4d3d69438e57d7a90abb216fa076e7d475d4a/sacremoses-0.0.45-py3-none-any.whl (895kB)\n",
            "\u001b[K     |████████████████████████████████| 901kB 53.5MB/s \n",
            "\u001b[?25hRequirement already satisfied: zipp>=0.5 in /usr/local/lib/python3.7/dist-packages (from importlib-metadata; python_version < \"3.8\"->transformers) (3.4.1)\n",
            "Requirement already satisfied: typing-extensions>=3.6.4; python_version < \"3.8\" in /usr/local/lib/python3.7/dist-packages (from importlib-metadata; python_version < \"3.8\"->transformers) (3.7.4.3)\n",
            "Requirement already satisfied: pyparsing>=2.0.2 in /usr/local/lib/python3.7/dist-packages (from packaging->transformers) (2.4.7)\n",
            "Requirement already satisfied: idna<3,>=2.5 in /usr/local/lib/python3.7/dist-packages (from requests->transformers) (2.10)\n",
            "Requirement already satisfied: chardet<4,>=3.0.2 in /usr/local/lib/python3.7/dist-packages (from requests->transformers) (3.0.4)\n",
            "Requirement already satisfied: certifi>=2017.4.17 in /usr/local/lib/python3.7/dist-packages (from requests->transformers) (2020.12.5)\n",
            "Requirement already satisfied: urllib3!=1.25.0,!=1.25.1,<1.26,>=1.21.1 in /usr/local/lib/python3.7/dist-packages (from requests->transformers) (1.24.3)\n",
            "Requirement already satisfied: joblib in /usr/local/lib/python3.7/dist-packages (from sacremoses->transformers) (1.0.1)\n",
            "Requirement already satisfied: six in /usr/local/lib/python3.7/dist-packages (from sacremoses->transformers) (1.15.0)\n",
            "Requirement already satisfied: click in /usr/local/lib/python3.7/dist-packages (from sacremoses->transformers) (7.1.2)\n",
            "Installing collected packages: tokenizers, sacremoses, transformers\n",
            "Successfully installed sacremoses-0.0.45 tokenizers-0.10.2 transformers-4.5.1\n"
          ],
          "name": "stdout"
        }
      ]
    },
    {
      "cell_type": "code",
      "metadata": {
        "colab": {
          "base_uri": "https://localhost:8080/"
        },
        "id": "RBIfMrAn9VpG",
        "outputId": "56a8bf4e-28ad-44a3-b44d-6f8837e999dc"
      },
      "source": [
        "!unzip /content/drive/MyDrive/file.zip -d /content/sample_data"
      ],
      "execution_count": null,
      "outputs": [
        {
          "output_type": "stream",
          "text": [
            "Archive:  /content/drive/MyDrive/file.zip\n",
            "   creating: /content/sample_data/content/transformers/examples/pytorch/language-modeling/HPmodel/\n",
            "  inflating: /content/sample_data/content/transformers/examples/pytorch/language-modeling/HPmodel/trainer_state.json  \n",
            "  inflating: /content/sample_data/content/transformers/examples/pytorch/language-modeling/HPmodel/merges.txt  \n",
            "  inflating: /content/sample_data/content/transformers/examples/pytorch/language-modeling/HPmodel/vocab.json  \n",
            "  inflating: /content/sample_data/content/transformers/examples/pytorch/language-modeling/HPmodel/eval_results.json  \n",
            "  inflating: /content/sample_data/content/transformers/examples/pytorch/language-modeling/HPmodel/training_args.bin  \n",
            "  inflating: /content/sample_data/content/transformers/examples/pytorch/language-modeling/HPmodel/tokenizer_config.json  \n",
            "  inflating: /content/sample_data/content/transformers/examples/pytorch/language-modeling/HPmodel/pytorch_model.bin  \n",
            "  inflating: /content/sample_data/content/transformers/examples/pytorch/language-modeling/HPmodel/tokenizer.json  \n",
            "  inflating: /content/sample_data/content/transformers/examples/pytorch/language-modeling/HPmodel/all_results.json  \n",
            "  inflating: /content/sample_data/content/transformers/examples/pytorch/language-modeling/HPmodel/train_results.json  \n",
            "  inflating: /content/sample_data/content/transformers/examples/pytorch/language-modeling/HPmodel/special_tokens_map.json  \n",
            "  inflating: /content/sample_data/content/transformers/examples/pytorch/language-modeling/HPmodel/config.json  \n"
          ],
          "name": "stdout"
        }
      ]
    },
    {
      "cell_type": "code",
      "metadata": {
        "id": "gwKYnPxo4Nae",
        "colab": {
          "base_uri": "https://localhost:8080/",
          "height": 165,
          "referenced_widgets": [
            "967cd2c962614481bbbfa1f29b6cd335",
            "a8e44c42191246cc85b47cadc5a7035a",
            "7b794ea99f9740459d98981208744a54",
            "36a57490695d4a1cbf5e92c2d723e147",
            "25584bd7cd864107aac782e5909791bb",
            "58b663eed45348868f51cb9c97595c2a",
            "66dfd1051ff143d59f98c8ae9108dd4f",
            "9ecf4503efb5451f96b57bbff2b4f823",
            "f1b4cc9222a3448585ddf46cb1e72864",
            "806365ec5ecf4621b558a4456569b4f8",
            "f317926cdba349eb9369fe1b6fcad726",
            "5d69b63d2f1a4a5490c40c86e79ba3c1",
            "8a0d5dd50a844328abf6ebf7a88a6d33",
            "3e1b0a02aba0447c9d905e65a4828d18",
            "34f649aa5d3d435e8f36f0b6ce2bb2a3",
            "5c906063a6d14b58b8aa202ecc1992a0",
            "69f43e7857304041abaad8b0dd0e6f2a",
            "8fd10a3cccbf463286df0c51030d81ad",
            "3609c99a7c3b4211903afcf68f212af0",
            "6018a45faabc4757ba762f48687bc6b0",
            "5f442e97e8c3437facd1eddb1d95ae34",
            "f613a5921dce433593c806ff25850fab",
            "f2e6e279b97648038fb58b21c6662339",
            "9c423ad7d2a74fbd8ebf8722e2d59fcd"
          ]
        },
        "outputId": "3618349f-76e5-4ce8-fad9-9c5e9400e36f"
      },
      "source": [
        "from transformers import GPT2LMHeadModel, GPT2Tokenizer\n",
        "\n",
        "model = GPT2LMHeadModel.from_pretrained('/content/sample_data/content/transformers/examples/pytorch/language-modeling/HPmodel')\n",
        "tokenizer = GPT2Tokenizer.from_pretrained('gpt2')\n"
      ],
      "execution_count": null,
      "outputs": [
        {
          "output_type": "display_data",
          "data": {
            "application/vnd.jupyter.widget-view+json": {
              "model_id": "967cd2c962614481bbbfa1f29b6cd335",
              "version_minor": 0,
              "version_major": 2
            },
            "text/plain": [
              "HBox(children=(FloatProgress(value=0.0, description='Downloading', max=1042301.0, style=ProgressStyle(descript…"
            ]
          },
          "metadata": {
            "tags": []
          }
        },
        {
          "output_type": "stream",
          "text": [
            "\n"
          ],
          "name": "stdout"
        },
        {
          "output_type": "display_data",
          "data": {
            "application/vnd.jupyter.widget-view+json": {
              "model_id": "f1b4cc9222a3448585ddf46cb1e72864",
              "version_minor": 0,
              "version_major": 2
            },
            "text/plain": [
              "HBox(children=(FloatProgress(value=0.0, description='Downloading', max=456318.0, style=ProgressStyle(descripti…"
            ]
          },
          "metadata": {
            "tags": []
          }
        },
        {
          "output_type": "stream",
          "text": [
            "\n"
          ],
          "name": "stdout"
        },
        {
          "output_type": "display_data",
          "data": {
            "application/vnd.jupyter.widget-view+json": {
              "model_id": "69f43e7857304041abaad8b0dd0e6f2a",
              "version_minor": 0,
              "version_major": 2
            },
            "text/plain": [
              "HBox(children=(FloatProgress(value=0.0, description='Downloading', max=1355256.0, style=ProgressStyle(descript…"
            ]
          },
          "metadata": {
            "tags": []
          }
        },
        {
          "output_type": "stream",
          "text": [
            "\n"
          ],
          "name": "stdout"
        }
      ]
    },
    {
      "cell_type": "code",
      "metadata": {
        "id": "VLTedTFI4V3T"
      },
      "source": [
        "def ppl_score(generated, tokenizer, model):\n",
        "\n",
        "    encodings = tokenizer(generated, return_tensors='pt')\n",
        "\n",
        "    max_length = model.config.n_positions\n",
        "    stride = 512\n",
        "\n",
        "    lls = []\n",
        "    for i in tqdm(range(0, encodings.input_ids.size(1), stride)):\n",
        "        begin_loc = max(i + stride - max_length, 0)\n",
        "        end_loc = min(i + stride, encodings.input_ids.size(1))\n",
        "        trg_len = end_loc - i    # may be different from stride on last loop\n",
        "        input_ids = encodings.input_ids[:,begin_loc:end_loc]\n",
        "        target_ids = input_ids.clone()\n",
        "        target_ids[:,:-trg_len] = -100\n",
        "\n",
        "        with torch.no_grad():\n",
        "            outputs = model(input_ids, labels=target_ids)\n",
        "            log_likelihood = outputs[0] * trg_len\n",
        "\n",
        "        lls.append(log_likelihood)\n",
        "\n",
        "    ppl = torch.exp(torch.stack(lls).sum() / end_loc)\n",
        "    print('\\n')\n",
        "    return ppl\n"
      ],
      "execution_count": null,
      "outputs": []
    },
    {
      "cell_type": "code",
      "metadata": {
        "id": "H_zhOq5S4SGi",
        "colab": {
          "base_uri": "https://localhost:8080/",
          "height": 503
        },
        "outputId": "0e0dfcdc-e735-4b19-a83e-c4d0cc4ec6cf"
      },
      "source": [
        "sentence = \"\"\"Harry Potter and The Cursed Child. Autumn seemed to arrive suddenly that year. The\n",
        "morning of the first of September was crisp and\n",
        "golden as an apple, and as the little family bobbed\n",
        "across the rumbling road toward the great sooty\n",
        "station, the fumes of car exhausts and the breath of\n",
        "pedestrians sparkled like cobwebs in the cold air. Two\n",
        "large cages rattled on top of the laden trolleys the\n",
        "parents were pushing; the owls inside them hooted\n",
        "indignantly, and the redheaded girl trailed tearfully\n",
        "behind her brothers, clutching her father’s arm.\n",
        "“It won’t be long, and you’ll be going too,” Harry told\n",
        "her.\n",
        "“Two years,” sniffed Lily. “I want to go now\\”\n",
        "The commuters stared curiously at the owls as the\n",
        "family wove its way toward the barrier between\n",
        "platforms nine and ten. Albus’s voice drifted back to\n",
        "Harry over the surrounding clamor; his sons had\n",
        "resumed the argument they had started in the car.\n",
        "“I won’ti I won’t be in Slytherin!”\n",
        "“James, give it a rest!” said Ginny.\n",
        "“I only said he might be,” said James, grinning at his\n",
        "younger brother. “There’s nothing wrong with that. He\n",
        "might be in Slyth — ”\n",
        "But James caught his mother’s eye and fell silent.\n",
        "The five Potters approached the barrier. With a\n",
        "slightly cocky look over his shoulder at his younger\n",
        "brother, James took the trolley from his mother and\n",
        "broke into a run. A moment later, he had vanished.\n",
        "“You’ll write to me, won’t you?” Albus asked his\n",
        "parents immediately, capitalizing on the momentary\n",
        "absence of his brother.\n",
        "“Every day, if you want us to,” said Ginny.\n",
        "“Not every day,” said Albus quickly. “James says most\n",
        "people only get letters from home about once a\n",
        "month.”\n",
        "“We wrote to James three times a week last year,”\n",
        "said Ginny.\n",
        "“And you don’t want to believe everything he tells you\n",
        "about Hogwarts,” Harry put in. “He likes a laugh,\n",
        "your brother.”\n",
        "Side by side, they pushed the second trolley forward,\n",
        "gathering speed. As they reached the barrier, Albus\n",
        "winced, but no collision came. Instead, the family\n",
        "emerged onto platform nine and three-quarters,\n",
        "which was obscured by thick white steam that was\n",
        "pouring from the scarlet Hogwarts Express. Indistinct\n",
        "figures were swarming through the mist, into which\n",
        "James had already disappeared.\n",
        "“Where are they?” asked Albus anxiously, peering at\n",
        "the hazy forms they passed as they made their way\n",
        "down the platform.\"\"\"\n",
        "\n",
        "sentence = re.sub(r'\\s', ' ', sentence)\n",
        "input_ids = tokenizer.encode(sentence, return_tensors='pt')\n",
        "result = model.generate(\n",
        "    input_ids, \n",
        "    max_length=1000,  \n",
        "    num_return_sequences=5,\n",
        "    no_repeat_ngram_size=2,\n",
        "    repetition_penalty=1.5,\n",
        "    top_p=0.92,\n",
        "    temperature=.85,\n",
        "    do_sample=True,\n",
        "    top_k=125,\n",
        "    early_stopping=True\n",
        ")\n",
        "\n",
        "generated = tokenizer.decode(result[0], skip_special_tokens=True)\n",
        "generated"
      ],
      "execution_count": null,
      "outputs": [
        {
          "output_type": "stream",
          "text": [
            "Setting `pad_token_id` to `eos_token_id`:50256 for open-end generation.\n"
          ],
          "name": "stderr"
        },
        {
          "output_type": "execute_result",
          "data": {
            "application/vnd.google.colaboratory.intrinsic+json": {
              "type": "string"
            },
            "text/plain": [
              "'Harry Potter and The Cursed Child. Autumn seemed to arrive suddenly that year. The morning of the first of September was crisp and golden as an apple, and as the little family bobbed across the rumbling road toward the great sooty station, the fumes of car exhausts and the breath of pedestrians sparkled like cobwebs in the cold air. Two large cages rattled on top of the laden trolleys the parents were pushing; the owls inside them hooted indignantly, and the redheaded girl trailed tearfully behind her brothers, clutching her father’s arm. “It won’t be long, and you’ll be going too,” Harry told her. “Two years,” sniffed Lily. “I want to go now\\\\” The commuters stared curiously at the owls as the family wove its way toward the barrier between platforms nine and ten. Albus’s voice drifted back to Harry over the surrounding clamor; his sons had resumed the argument they had started in the car. “I won’ti I won’t be in Slytherin!” “James, give it a rest!” said Ginny. “I only said he might be,” said James, grinning at his younger brother. “There’s nothing wrong with that. He might be in Slyth — ” But James caught his mother’s eye and fell silent. The five Potters approached the barrier. With a slightly cocky look over his shoulder at his younger brother, James took the trolley from his mother and broke into a run. A moment later, he had vanished. “You’ll write to me, won’t you?” Albus asked his parents immediately, capitalizing on the momentary absence of his brother. “Every day, if you want us to,” said Ginny. “Not every day,” said Albus quickly. “James says most people only get letters from home about once a month.” “We wrote to James three times a week last year,” said Ginny. “And you don’t want to believe everything he tells you about Hogwarts,” Harry put in. “He likes a laugh, your brother.” Side by side, they pushed the second trolley forward, gathering speed. As they reached the barrier, Albus winced, but no collision came. Instead, the family emerged onto platform nine and three-quarters, which was obscured by thick white steam that was pouring from the scarlet Hogwarts Express. Indistinct figures were swarming through the mist, into which James had already disappeared. “Where are they?” asked Albus anxiously, peering at the hazy forms they passed as they made their way down the platform. There was silence all along this route: families emerging outslope escalators while others stopped beside train doors waiting for trains to come around again (the Weasley twins did not take part). Then Harry saw Ron leaning against one doorway, staring stupidly up ahead, where there appeared finally.... then Dumbledore entered just before anyone could shout or move any further away... His silver hair gleamed in sunlight streaming through tarnished windowpane curtains set high in front ; when everybody had gone, we heard somebody say happily beyond the echoing crowd above him \"... Mr Diggory, sir. All right, everyone here? Will Arthur please hurry up and bring Scabbers aboard. Hermione and I will wait outside our compartment fifteen minutes and catch up after the rest have boarded except my son is a short walk below. If anybody would prefer Hedwig, she‘d make a very fine substitute instead Of course neither Sirius nor Professor McGonagall spoke until they joined nearly four hours late two weeks previously When the adults climbed off Atrium nine they saw the Hogwarts headmaster hurrying past them holding what looked remarkably much more than Rubeus Hagrid himself within earshOT THE DUELING BOY AND HIS FRIENDS 549 glass spheres. Harry wondered whether those eyes belonged entirely to Voldemort. They stuck round the edges rather awkwardly, almost frightening him. When nobody moved another jumbo jet thundered overhead. Everyone turned sideways looking terrified. Finally something happened that made Harry feel safe enough even though the whole journey felt highly uncomfortable. Lupin seized Harry tightly under Armando Marchetti who flung open Sorting Hat 17 and began sorting each student into pairs. On Harry left stood Seamus Finnigan carrying tiny ginger kittens to George Weasley, both wearing orange robes such perfumed laces Uncle Vernon grunted loudly due mainly because Aunt Petunia wanted fewer children and therefore less clothing needed changing during visits From underneath the hat, however sprang Fred Dean blushing and purple with embarrassment standing next door dressed equally un'"
            ]
          },
          "metadata": {
            "tags": []
          },
          "execution_count": 13
        }
      ]
    },
    {
      "cell_type": "code",
      "metadata": {
        "colab": {
          "base_uri": "https://localhost:8080/"
        },
        "id": "bLi0Wevp_ejD",
        "outputId": "151e019d-7403-468b-c94a-18d19df14787"
      },
      "source": [
        "print(ppl_score(generated, tokenizer, model))"
      ],
      "execution_count": null,
      "outputs": [
        {
          "output_type": "stream",
          "text": [
            "100%|██████████| 2/2 [00:19<00:00,  9.64s/it]"
          ],
          "name": "stderr"
        },
        {
          "output_type": "stream",
          "text": [
            "\n",
            "\n",
            "tensor(23.9650)\n"
          ],
          "name": "stdout"
        },
        {
          "output_type": "stream",
          "text": [
            "\n"
          ],
          "name": "stderr"
        }
      ]
    },
    {
      "cell_type": "code",
      "metadata": {
        "colab": {
          "base_uri": "https://localhost:8080/",
          "height": 503
        },
        "id": "0cgYjplkA1-r",
        "outputId": "5a6c6414-220b-4a62-be87-2f70324babf8"
      },
      "source": [
        "sentence = \"\"\"When Harry walked in there was a sudden hush, and\n",
        "then everybody started talking loudly at once. He\n",
        "slipped into a seat between Ron and Hermione at the\n",
        "Gryffindor table and tried to ignore the fact that\n",
        "people were standing up to look at him.\n",
        "Fortunately, Dumbledore arrived moments later. The\n",
        "babble died away.\n",
        "“Another year gone!” Dumbledore said cheerfully.\n",
        "“And I must trouble you with an old man’s wheezing\n",
        "waffle before we sink our teeth into our delicious\n",
        "feast. What a year it has been! Hopefully your heads\n",
        "are all a little fuller than they were . . . you have the\n",
        "whole summer ahead to get them nice and empty\n",
        "before next year starts. ...\n",
        "“Now, as I understand it, the House Cup here needs\n",
        "awarding, and the points stand thus: In fourth place,\n",
        "Gryffindor, with three hundred and twelve points; in\n",
        "third, Hufflepuff, with three hundred and fifty-two;\n",
        "Ravenclaw has four hundred and twenty-six and\n",
        "Slytherin, four hundred and seventy- two.”\n",
        "A storm of cheering and stamping broke out from the\n",
        "Slytherin table. Harry could see Draco Malfoy banging\n",
        "his goblet on the table. It was a sickening sight.\n",
        "“Yes, yes, well done, Slytherin,” said Dumbledore.\n",
        "“However, recent events must be taken into account.”\n",
        "The room went very still. The Slytherins’ smiles faded\n",
        "a little.\n",
        "“Ahem,” said Dumbledore. “I have a few last-minute\n",
        "points to dish out. Let me see. Yes ...\n",
        "“First — to Mr. Ronald Weasley ...”\n",
        "Ron went purple in the face; he looked like a radish\n",
        "with a bad sunburn.\n",
        "\"... for the best-played game of chess Hogwarts has\n",
        "seen in many years, I award Gryffindor House fifty\n",
        "points.”\n",
        "Gryffindor cheers nearly raised the bewitched ceiling;\n",
        "the stars overhead seemed to quiver. Percy could be\n",
        "heard telling the other prefects, “My brother, you\n",
        "know! My youngest brother! Got past McGonagall’s\n",
        "giant chess set!”\n",
        "At last there was silence again.\n",
        "“Second — to Miss Hermione Granger . . . for the use of\n",
        "cool logic in the face of fire, I award Gryffindor House\n",
        "fifty points.”\n",
        "Hermione buried her face in her arms; Harry strongly\n",
        "suspected she had burst into tears. Gryffindors up\n",
        "and down the table were beside themselves — they\n",
        "were a hundred points up.\n",
        "“Third — to Mr. Harry Potter ...” said Dumbledore.\n",
        "The room went deadly quiet. \"... for\"\"\"\n",
        "\n",
        "sentence = re.sub(r'\\s', ' ', sentence)\n",
        "input_ids = tokenizer.encode(sentence, return_tensors='pt')\n",
        "result = model.generate(\n",
        "    input_ids, \n",
        "    max_length=1000,  \n",
        "    num_return_sequences=5,\n",
        "    no_repeat_ngram_size=2,\n",
        "    repetition_penalty=1.5,\n",
        "    top_p=0.92,\n",
        "    temperature=.85,\n",
        "    do_sample=True,\n",
        "    top_k=125,\n",
        "    early_stopping=True\n",
        ")\n",
        "\n",
        "generated = tokenizer.decode(result[0], skip_special_tokens=True)\n",
        "generated\n"
      ],
      "execution_count": null,
      "outputs": [
        {
          "output_type": "stream",
          "text": [
            "Setting `pad_token_id` to `eos_token_id`:50256 for open-end generation.\n"
          ],
          "name": "stderr"
        },
        {
          "output_type": "execute_result",
          "data": {
            "application/vnd.google.colaboratory.intrinsic+json": {
              "type": "string"
            },
            "text/plain": [
              "'When Harry walked in there was a sudden hush, and then everybody started talking loudly at once. He slipped into a seat between Ron and Hermione at the Gryffindor table and tried to ignore the fact that people were standing up to look at him. Fortunately, Dumbledore arrived moments later. The babble died away. “Another year gone!” Dumbledore said cheerfully. “And I must trouble you with an old man’s wheezing waffle before we sink our teeth into our delicious feast. What a year it has been! Hopefully your heads are all a little fuller than they were... you have the whole summer ahead to get them nice and empty before next year starts.... “Now, as I understand it, the House Cup here needs awarding, and the points stand thus: In fourth place, Gryffindor, with three hundred and twelve points; in third, Hufflepuff, with three hundred and fifty-two; Ravenclaw has four hundred and twenty-six and Slytherin, four hundred and seventy- two.” A storm of cheering and stamping broke out from the Slytherin table. Harry could see Draco Malfoy banging his goblet on the table. It was a sickening sight. “Yes, yes, well done, Slytherin,” said Dumbledore. “However, recent events must be taken into account.” The room went very still. The Slytherins’ smiles faded a little. “Ahem,” said Dumbledore. “I have a few last-minute points to dish out. Let me see. Yes... “First — to Mr. Ronald Weasley...” Ron went purple in the face; he looked like a radish with a bad sunburn. \"... for the best-played game of chess Hogwarts has seen in many years, I award Gryffindor House fifty points.” Gryffindor cheers nearly raised the bewitched ceiling; the stars overhead seemed to quiver. Percy could be heard telling the other prefects, “My brother, you know! My youngest brother! Got past McGonagall’s giant chess set!” At last there was silence again. “Second — to Miss Hermione Granger... for the use of cool logic in the face of fire, I award Gryffindor House fifty points.” Hermione buried her face in her arms; Harry strongly suspected she had burst into tears. Gryffindors up and down the table were beside themselves — they were a hundred points up. “Third — to Mr. Harry Potter...” said Dumbledore. The room went deadly quiet. \"... for courage displayed most famously during World War Two by none more qualified or braver even (Mr., sir)than myself when faced upon imminent death threats., my students may add, he remains brave indeed. However gracious this achievement might seem, however noble its beginnings, Harry is nevertheless awarded forty additional point... And finally - To each student who attended Hogwarts High School over these previous school terms. ickle elf‘d say hi\\\\ There was so much noise from every direction that Fred didn sulkily turn back onto George instead but made sure that everyone else got their own end too). Now, allow yourself considerable pride, donnybrook! You did win, eh? How do yer marks stack against those oaf Viktor Krum‹ll put in last time? Havena learned enough yet ter become better players since term ended YEH DONT WANT ME TO DO THAT! HEY HIPPIE PROFESSOR, YOU GONNA MAKE SURE WE WIN THE HOUSE CUP IN THREE SEASONS NOW BECAUSE IT COULD BE WORSE THAN YOUR HEAD WHEN THIS TIME COMES UP AGAIN! PICK ANY ONE OF THEM, LET HIM/HER SAY HELLO AND THEY WILL ALL GET THEIR OWN NAMES FORWARD UNLESS REMOVED FROM SCOREBOARD WITH WORKOUT RULING PARTIES OR OTHER ISSUMS EVER TOLD Meantime Professor Lupin emerged proudly showing off some dazzling new dragon skin he bought recently from Madam Malkin under pressure not only because Madame Maxima wanted another sample ready to hand around after dinner tonight without Snape checking, perusing Daily Prophet archives about dragons everywhere except himself if ever anyone asked politely why no one outside number eleven thought that the unicorn should break free accidentally while trying repeatedly remount Hermionelus through thin air. When Harry turned to stare at Cedric Diggory he saw that, despite being slightly taller owing both muscle mass alone suggesting otherwise—he now actually resembled Neville Longbottom rather closely compared almost wordlessly wearing what appeared wholly unremarkable green robes. This would prove crucial early December afternoon though it also meant losing plenty forcibly until January 6th whereupon it returned briefly untarnished'"
            ]
          },
          "metadata": {
            "tags": []
          },
          "execution_count": 15
        }
      ]
    },
    {
      "cell_type": "code",
      "metadata": {
        "colab": {
          "base_uri": "https://localhost:8080/"
        },
        "id": "Fvc4m_WUFhQu",
        "outputId": "aed2ba62-7060-42d8-a4f9-0820038ee3fe"
      },
      "source": [
        "print(ppl_score(generated, tokenizer, model))"
      ],
      "execution_count": null,
      "outputs": [
        {
          "output_type": "stream",
          "text": [
            "100%|██████████| 2/2 [00:19<00:00,  9.56s/it]"
          ],
          "name": "stderr"
        },
        {
          "output_type": "stream",
          "text": [
            "\n",
            "\n",
            "tensor(14.2953)\n"
          ],
          "name": "stdout"
        },
        {
          "output_type": "stream",
          "text": [
            "\n"
          ],
          "name": "stderr"
        }
      ]
    },
    {
      "cell_type": "code",
      "metadata": {
        "id": "WB5que0bII5M",
        "colab": {
          "base_uri": "https://localhost:8080/",
          "height": 521
        },
        "outputId": "761f7b4b-4a15-4670-ee86-3024035855ad"
      },
      "source": [
        "sentence = \"\"\"The rest of the final term passed in a haze of blazing \n",
        "sunshine. Hogwarts was back to normal with only a \n",
        "few, small differences — Defense Against the Dark \n",
        "Arts classes were canceled (“but we’ve had plenty of \n",
        "practice at that anyway,” Ron told a disgruntled \n",
        "Hermione) and Lucius Malfoy had been sacked as a \n",
        "school governor. Draco was no longer strutting \n",
        "around the school as though he owned the place. On \n",
        "the contrary, he looked resentful and sulky. On the \n",
        "other hand, Ginny Weasley was perfectly happy \n",
        "again. \n",
        "\n",
        "Too soon, it was time for the journey home on the \n",
        "Hogwarts Express. Harry, Ron, Hermione, Fred, \n",
        "George, and Ginny got a compartment to themselves. \n",
        "They made the most of the last few hours in which \n",
        "they were allowed to do magic before the holidays. \n",
        "They played Exploding Snap, set off the very last of \n",
        "Fred and George’s Filibuster fireworks, and practiced \n",
        "disarming each other by magic. Harry was getting \n",
        "very good at it. \n",
        "\n",
        "They were almost at King’s Cross when Harry \n",
        "remembered something. \n",
        "\n",
        "“Ginny — what did you see Percy doing, that he didn’t \n",
        "want you to tell anyone?” \n",
        "\n",
        "“Oh, that,” said Ginny, giggling. “Well — Percy’s got a \n",
        "girlfriend.” \n",
        "\n",
        "Fred dropped a stack of books on George’s head. \n",
        "“What?” \n",
        "\n",
        "“It’s that Ravenclaw prefect, Penelope Clearwater,” \n",
        "said Ginny. “That’s who he was writing to all last \n",
        "summer. He’s been meeting her all over the school in \n",
        "secret. I walked in on them kissing in an empty \"\"\"\n",
        "\n",
        "sentence = re.sub(r'\\s', ' ', sentence)\n",
        "input_ids = tokenizer.encode(sentence, return_tensors='pt')\n",
        "result = model.generate(\n",
        "    input_ids, \n",
        "    max_length=1000,  \n",
        "    num_return_sequences=5,\n",
        "    no_repeat_ngram_size=2,\n",
        "    repetition_penalty=1.5,\n",
        "    top_p=0.92,\n",
        "    temperature=.85,\n",
        "    do_sample=True,\n",
        "    top_k=125,\n",
        "    early_stopping=True\n",
        ")\n",
        "\n",
        "generated = tokenizer.decode(result[0], skip_special_tokens=True)\n",
        "generated\n"
      ],
      "execution_count": null,
      "outputs": [
        {
          "output_type": "stream",
          "text": [
            "Setting `pad_token_id` to `eos_token_id`:50256 for open-end generation.\n"
          ],
          "name": "stderr"
        },
        {
          "output_type": "execute_result",
          "data": {
            "application/vnd.google.colaboratory.intrinsic+json": {
              "type": "string"
            },
            "text/plain": [
              "'The rest of the final term passed in a haze of blazing  sunshine. Hogwarts was back to normal with only a  few, small differences — Defense Against the Dark  Arts classes were canceled (“but we’ve had plenty of  practice at that anyway,” Ron told a disgruntled  Hermione) and Lucius Malfoy had been sacked as a  school governor. Draco was no longer strutting  around the school as though he owned the place. On  the contrary, he looked resentful and sulky. On the  other hand, Ginny Weasley was perfectly happy  again.   Too soon, it was time for the journey home on the  Hogwarts Express. Harry, Ron, Hermione, Fred,  George, and Ginny got a compartment to themselves.  They made the most of the last few hours in which  they were allowed to do magic before the holidays.  They played Exploding Snap, set off the very last of  Fred and George’s Filibuster fireworks, and practiced  disarming each other by magic. Harry was getting  very good at it.   They were almost at King’s Cross when Harry  remembered something.   “Ginny — what did you see Percy doing, that he didn’t  want you to tell anyone?”   “Oh, that,” said Ginny, giggling. “Well — Percy’s got a  girlfriend.”   Fred dropped a stack of books on George’s head.  “What?”   “It’s that Ravenclaw prefect, Penelope Clearwater,”  said Ginny. “That’s who he was writing to all last  summer. He’s been meeting her all over the school in  secret. I walked in on them kissing in an empty  common room. You know him, don... listen. Jealous she met someone new this year too... Anyway! She likes being first-year so I think there‘ll be loads ogling opportunities down pat if Peeves doesn 0 catch up.... No wonder Umbridge hates Daily Prophet stuff — Pen... well yeah\\\\ Yeah but how come Nott keeps falling asleep during meetings — penpal2 is having second dreams about his crush Cleo Snape? And now Krum‒d brought another girl into our midst today — you guessed right: Amelia Bones,‡ my squire from Durmstrang! What are these dunderheads playing pretend like? Well go out while your heart※S mad! I doubt any Of us would dare act otherwise; it might just get us expelled From Hogwarts entirely! But seriously considering acting against Dumbledore once more Now then here comes Professor Sprout, please hurry up, dear boy; the feast will start early tomorrow evening without interruption or delay Evening tea must have ruined breakfast! Oh yes indeed It must surely make me feel better to hear everyone back at their usual tables Once through Hogsmeade, the students left Great Hall together carrying trays of treacle creams pasted onto stools and plates after five minutes eating haggis cakes and eggs covered pots full swathed lovingly green leaves topped hugely custard dressingings bearing jus tangerines dipped heavily tart cherries zesty pudders Their faces gleamed warmly under silver scarves, some still tinkering furiously inside one large basket (Hermione caught Viktor catching Herbology teacher Mrs Mason‹ s eye), others pulling large mugs filled originally berry vases flying across three tables where people sat enjoying Christmas dinner In pairs behind Mr Honeydukes selling Ice Cream Fleur Delacour voluptuously painted pink with midnight gold glitter The long line snaked farther along the corridors toward lunchtime Then came cries outside the classroom door Our friends from Beauxbatons started hurrying forward As two girls jumped aside to allow passage Angelina Johnson sped ahead clutching Katie Bell We saw Cho jumping awkwardly between two chattering Hufflepuffs followed closely By Dean Thomas forcing Colin Creevey eagerly nearer by force Nearly Headless Nick forced himself closer Still fighting a furious fight For Huffletpuff win An enormous banner tied neatly round Justin Finch-Fletchley wearing elf ears wreathed brilliantly golden flames Standing shoulder deep amongst such throng A thin streamer flickered beneath both eyes That caused many timid souls embarrassment Shaking slightly At the sight Werewolf mascot Boomeranged angrily causing Katie pain Even worse than feeling herself shrinking Down below descended several struggling fifth years In various states regarding whether To give chase Or flee While the crowd thundered menacingly above A tiny figure suddenly appeared upon either side vanishing from view Parvati Patil crying tears leaked slowly down the boys handsome faces As silence fell quickly everywhere Harry turned abruptly away from Madam Hooch and hurried silently upstairs Leaving barely half toast and muddy footprints among fallen'"
            ]
          },
          "metadata": {
            "tags": []
          },
          "execution_count": 7
        }
      ]
    },
    {
      "cell_type": "code",
      "metadata": {
        "colab": {
          "base_uri": "https://localhost:8080/"
        },
        "id": "aNTYbA45vt-p",
        "outputId": "4149da7c-0959-4034-ddaa-6c6a17c347bb"
      },
      "source": [
        "print(ppl_score(generated, tokenizer, model))"
      ],
      "execution_count": null,
      "outputs": [
        {
          "output_type": "stream",
          "text": [
            "100%|██████████| 2/2 [00:20<00:00, 10.09s/it]"
          ],
          "name": "stderr"
        },
        {
          "output_type": "stream",
          "text": [
            "\n",
            "\n",
            "tensor(33.5475)\n"
          ],
          "name": "stdout"
        },
        {
          "output_type": "stream",
          "text": [
            "\n"
          ],
          "name": "stderr"
        }
      ]
    },
    {
      "cell_type": "code",
      "metadata": {
        "colab": {
          "base_uri": "https://localhost:8080/",
          "height": 555
        },
        "id": "zfFbfZSivvao",
        "outputId": "3f2b2723-ee92-4f38-b701-71cb4d3ab5f9"
      },
      "source": [
        "sentence = \"\"\"Harry turned to look outside. Something very small\n",
        "and gray was bobbing in and out of sight beyond the\n",
        "glass. He stood up for a better look and saw that it\n",
        "was a tiny owl, carrying a letter that was much too\n",
        "big for it. The owl was so small, in fact, that it kept\n",
        "tumbling over in the air, buffeted this way and that in\n",
        "the train’s slipstream. Harry quickly pulled down the\n",
        "window, stretched out his arm, and caught it. It felt\n",
        "like a very fluffy Snitch. He brought it carefully inside.\n",
        "The owl dropped its letter onto Harry’s seat and began\n",
        "zooming around their compartment, apparently very\n",
        "pleased with itself for accomplishing its task. Hedwig\n",
        "clicked her beak with a sort of dignified disapproval.\n",
        "Crookshanks sat up in his seat, following the owl with\n",
        "his great yellow eyes. Ron, noticing this, snatched the\n",
        "owl safely out of harm’s way.\n",
        "Harry picked up the letter. It was addressed to him.\n",
        "He ripped open the letter, and shouted, “It’s from\n",
        "Sirius!”\n",
        "“What?” said Ron and Hermione excitedly. “Read it\n",
        "aloud!”\n",
        "Dear Harry,\n",
        "I hope this finds you before you reach your aunt and\n",
        "uncle. I don’t know whether they’re used to owl post\n",
        "Buckbeak and I are in hiding. I won’t tell you where, in\n",
        "case this owl falls into the wrong hands. I have some\n",
        "doubt about his reliability, but he is the best I could\n",
        "find, and he did seem eager for the job.\n",
        "I believe \"\"\"\n",
        "\n",
        "sentence = re.sub(r'\\s', ' ', sentence)\n",
        "input_ids = tokenizer.encode(sentence, return_tensors='pt')\n",
        "result = model.generate(\n",
        "    input_ids, \n",
        "    max_length=1000,  \n",
        "    num_return_sequences=5,\n",
        "    no_repeat_ngram_size=2,\n",
        "    repetition_penalty=1.5,\n",
        "    top_p=0.92,\n",
        "    temperature=.85,\n",
        "    do_sample=True,\n",
        "    top_k=125,\n",
        "    early_stopping=True\n",
        ")\n",
        "\n",
        "generated = tokenizer.decode(result[0], skip_special_tokens=True)\n",
        "generated"
      ],
      "execution_count": null,
      "outputs": [
        {
          "output_type": "stream",
          "text": [
            "Setting `pad_token_id` to `eos_token_id`:50256 for open-end generation.\n"
          ],
          "name": "stderr"
        },
        {
          "output_type": "execute_result",
          "data": {
            "application/vnd.google.colaboratory.intrinsic+json": {
              "type": "string"
            },
            "text/plain": [
              "'Harry turned to look outside. Something very small and gray was bobbing in and out of sight beyond the glass. He stood up for a better look and saw that it was a tiny owl, carrying a letter that was much too big for it. The owl was so small, in fact, that it kept tumbling over in the air, buffeted this way and that in the train’s slipstream. Harry quickly pulled down the window, stretched out his arm, and caught it. It felt like a very fluffy Snitch. He brought it carefully inside. The owl dropped its letter onto Harry’s seat and began zooming around their compartment, apparently very pleased with itself for accomplishing its task. Hedwig clicked her beak with a sort of dignified disapproval. Crookshanks sat up in his seat, following the owl with his great yellow eyes. Ron, noticing this, snatched the owl safely out of harm’s way. Harry picked up the letter. It was addressed to him. He ripped open the letter, and shouted, “It’s from Sirius!” “What?” said Ron and Hermione excitedly. “Read it aloud!” Dear Harry, I hope this finds you before you reach your aunt and uncle. I don’t know whether they’re used to owl post Buckbeak and I are in hiding. I won’t tell you where, in case this owl falls into the wrong hands. I have some doubt about his reliability, but he is the best I could find, and he did seem eager for the job. I believe ____ who gave me these runes when we were trapped on Privet Drive last year — ‘To Sirius Black\\\\ 1. You will not come back here. 2 • To Bellatrix Lestrange A few days ago Professor Lupin gave us permission (he told them to keep our letters private) if any Hogwarts students came across owls bearing those Runes while abroad or sent messages by magic at night using Stunning Spells left behind after curfew hours as long an hour has passed since my imprisonment. They insisted upon giving away all magical mail arriving in London within thirty-four Hours Of This... Yes indeed! Thank goodness there isn\\'t anyone else stupid enough ter do something foolish like put ink on a piece o\\' parchment stuck together by Mr Honeydukes because then people might read what you write without my having time fer half measures So farewell now dear sir Arthur Weasley Best wishes ever Your friend Draco Malfoy THE SIRIUS BLACK OWL Nearly Headless Nick Peeves popped off beside Dumbledore ’S desk just above Snape, wearing spiky black robes and holding two daggers concealed under each ear; however closely cropped today with dirty hair peeling slightly below chin length Fred looked slightly grumpy though still sporting bright red tie: Crabbe sniggered. Both wizards hastily removed glasses set with rubies along one nostril and exchanged pleasantries. When both had settled themselves comfortably amongst Mrs., George announced loudly through clenched teeth how glad everyone seemed every morning that the Dursleys would never again hear the sound That horrible voice repeated five times throughout breakfast: Who is Voldemort? Why does he want revenge against you, Hagrid whispered reprovingLY His grandmother let out groans halfway between laughter AND sobbed Her mind cleared almost instantly and she became positively flowery. She certainly didn Wait until lunchtime, when they were allowed full plates ready, which meant putting their heads together to eat porridge alone once more We enjoyed ourselves immensely talking animatedously about everything to think About when Sirius might return as he had promised himself months beforehand And suddenly Fred started asking questions Percy interrupted them as the house elves arrived to fetch tea tables Two chairs nearest Uncle Vernon leapt aside politely to allow them room One chair farthest right joined next door Not wanting Dudley near them Aunt Petunia called out for butterbeer. Finally leaving to handbag, Bill waited till dinner only reluctantly stopped dead Just in front Ginny found herself sandwiched between Madam Malkin chewing gum Very hungry and exhausted yet oddly cheerful after their delicious three course meal Mrs M raised toast rather abruptly by seizing Auntie Murielegia roughly by forearm As she tried vainfully remonstrate Katie‡ll stop fighting so hard and tugged harder than usual Nobody talked past Dudley afterward. On Friday Harry went straight downstairs intending anyway secretly visit Kingsley Shacklebolt... This may turn sinister Once even Uncle Scabbers thought she might disappear But nothing happened during Herbology lesson Thursday evening... At eleven p \"to go upstairs and collect Kreacher‹d things tomorrow morning‑ Uncle Dean bounded toward Moody with renewed vigor Next thing Harry knew Neville Longbottom burst forth wailing uncontrollably in fright Stunned by Fang, Harry jumped backward clutching Fleur Delacour″ arms Inflamed mad instead exploded loudly with rage at being separated From Madame Maxime and Angel'"
            ]
          },
          "metadata": {
            "tags": []
          },
          "execution_count": 9
        }
      ]
    },
    {
      "cell_type": "code",
      "metadata": {
        "colab": {
          "base_uri": "https://localhost:8080/"
        },
        "id": "wQ7nB-bayP8T",
        "outputId": "04a156f7-4394-401b-96b4-22b21c355296"
      },
      "source": [
        "print(ppl_score(generated, tokenizer, model))"
      ],
      "execution_count": null,
      "outputs": [
        {
          "output_type": "stream",
          "text": [
            "100%|██████████| 2/2 [00:19<00:00,  9.71s/it]"
          ],
          "name": "stderr"
        },
        {
          "output_type": "stream",
          "text": [
            "\n",
            "\n",
            "tensor(29.4207)\n"
          ],
          "name": "stdout"
        },
        {
          "output_type": "stream",
          "text": [
            "\n"
          ],
          "name": "stderr"
        }
      ]
    },
    {
      "cell_type": "code",
      "metadata": {
        "id": "iSU-e5dOyRaM"
      },
      "source": [
        ""
      ],
      "execution_count": null,
      "outputs": []
    }
  ]
}